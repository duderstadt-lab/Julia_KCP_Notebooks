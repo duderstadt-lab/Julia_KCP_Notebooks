{
 "cells": [
  {
   "cell_type": "markdown",
   "metadata": {},
   "source": [
    "# Pause Detection"
   ]
  },
  {
   "cell_type": "markdown",
   "metadata": {},
   "source": [
    "## Python 3 Kernel - Trajectory Simulation"
   ]
  },
  {
   "cell_type": "code",
   "execution_count": 1,
   "metadata": {
    "collapsed": true
   },
   "outputs": [],
   "source": [
    "import matplotlib as mpl\n",
    "import matplotlib.pyplot as plt\n",
    "import random\n",
    "import numpy as np\n",
    "import beadpy\n",
    "import pandas as pd\n",
    "import itertools"
   ]
  },
  {
   "cell_type": "code",
   "execution_count": 2,
   "metadata": {
    "collapsed": true
   },
   "outputs": [],
   "source": [
    "%matplotlib inline"
   ]
  },
  {
   "cell_type": "code",
   "execution_count": 3,
   "metadata": {
    "collapsed": true
   },
   "outputs": [],
   "source": [
    "random.seed(53)\n",
    "np.random.seed(53)"
   ]
  },
  {
   "cell_type": "code",
   "execution_count": 4,
   "metadata": {
    "collapsed": true
   },
   "outputs": [],
   "source": [
    "def pausegen_fastversion(event_duration,\n",
    "             rate,\n",
    "              pause_duration,\n",
    "              noise_sigma,\n",
    "              ntraj):\n",
    "    rate_sequence = [rate]*int(event_duration)\n",
    "    pause_start = int(event_duration/2 - pause_duration/2)\n",
    "    pause_end = pause_start + pause_duration\n",
    "    rate_sequence[pause_start:pause_end] = [0]*pause_duration\n",
    "    position = np.cumsum(rate_sequence)\n",
    "    position = np.tile(position, ntraj)                           \n",
    "    position_withnoise = np.array(position) + np.random.normal(loc=0, scale = noise_sigma, size = event_duration*ntraj)\n",
    "    time = np.tile(range(0, event_duration), ntraj)\n",
    "    trajseq = np.repeat(range(0,ntraj), event_duration)\n",
    "    results = pd.DataFrame({'time' : time,\n",
    "                        'nucleotides' : position_withnoise,\n",
    "                           'position' : position,\n",
    "                           'trajectory' : trajseq})\n",
    "    return results;"
   ]
  },
  {
   "cell_type": "code",
   "execution_count": 5,
   "metadata": {
    "collapsed": true
   },
   "outputs": [],
   "source": [
    "def pause_dataset(event_duration = 100, noise_sigma = 100, ntraj = 10000):\n",
    "    \n",
    "    rates = [50, 100, 150, 200]\n",
    "    for j in rates:\n",
    "        for i in range(1,21):\n",
    "            pause_duration = i\n",
    "            data = pausegen_fastversion(event_duration,\n",
    "                 j,\n",
    "                  pause_duration,\n",
    "                  noise_sigma,\n",
    "                  ntraj)\n",
    "            data.to_csv(str(j)+'_'+str(pause_duration)+'_pause.csv', index=False, columns=['time', 'nucleotides', 'trajectory', 'position'])       \n",
    "    return 0;"
   ]
  },
  {
   "cell_type": "code",
   "execution_count": 6,
   "metadata": {},
   "outputs": [
    {
     "data": {
      "text/plain": [
       "0"
      ]
     },
     "execution_count": 6,
     "metadata": {},
     "output_type": "execute_result"
    }
   ],
   "source": [
    "pause_dataset()"
   ]
  },
  {
   "cell_type": "markdown",
   "metadata": {},
   "source": [
    "## Julia 0.6 Kernel - Change Point Analysis"
   ]
  },
  {
   "cell_type": "markdown",
   "metadata": {},
   "source": [
    "Now switich to the Julia 0.6 kernel, import the change point functions and run change point analysis."
   ]
  },
  {
   "cell_type": "code",
   "execution_count": 1,
   "metadata": {},
   "outputs": [
    {
     "data": {
      "text/plain": [
       "getchangepoints (generic function with 3 methods)"
      ]
     },
     "execution_count": 1,
     "metadata": {},
     "output_type": "execute_result"
    }
   ],
   "source": [
    "include(\"../src/KineticChangepoints.jl\")"
   ]
  },
  {
   "cell_type": "code",
   "execution_count": 2,
   "metadata": {
    "collapsed": true
   },
   "outputs": [],
   "source": [
    "for j in collect(50:50:200)\n",
    "    for i in collect(1:1:20)\n",
    "        sourcefile = string(j, \"_\", i, \"_pause.csv\")\n",
    "        outputfile = string(j, \"_\", i, \"_segs_pause.csv\")\n",
    "        getchangepoints(sourcefile, outputfile, 100, 0.99, ',', [1, 2, 3]);\n",
    "    end\n",
    "end"
   ]
  },
  {
   "cell_type": "markdown",
   "metadata": {},
   "source": [
    "## R Kernel - Analysis and Plots"
   ]
  },
  {
   "cell_type": "code",
   "execution_count": 1,
   "metadata": {
    "collapsed": true
   },
   "outputs": [],
   "source": [
    "suppressWarnings(suppressMessages(library(tidyverse)))\n",
    "suppressWarnings(suppressMessages(library(svglite)))"
   ]
  },
  {
   "cell_type": "code",
   "execution_count": 2,
   "metadata": {
    "collapsed": true
   },
   "outputs": [],
   "source": [
    "filelist = c()\n",
    "for (j in seq(4)){\n",
    "    rval = j*50\n",
    "    minfilelist = c()\n",
    "    for (i in seq(1,20,1)){\n",
    "        minfilelist = append(minfilelist, paste0(rval, \"_\", i,\"_segs_pause.csv\"))\n",
    "        }\n",
    "    filelist = append(filelist, minfilelist)\n",
    "    }\n",
    "rm(i, j, minfilelist, rval)"
   ]
  },
  {
   "cell_type": "code",
   "execution_count": 3,
   "metadata": {
    "collapsed": true
   },
   "outputs": [],
   "source": [
    "listy <- list()\n",
    "for (i in 1:length(filelist)){\n",
    "    tmp <-  read.csv(filelist[i])\n",
    "    tmp <- tmp %>%\n",
    "        mutate(tablenumber = i)\n",
    "    listy[[i]] <- tmp\n",
    "    }"
   ]
  },
  {
   "cell_type": "markdown",
   "metadata": {},
   "source": [
    "We define the criterion for pause detection as the presence of a segment of rate lower than 20 position units/time units, which passes through the centre of the trajectory (i.e. where the pause is)."
   ]
  },
  {
   "cell_type": "code",
   "execution_count": 4,
   "metadata": {
    "collapsed": true
   },
   "outputs": [],
   "source": [
    "detectioncount <- c()\n",
    "for (i in 1:length(listy)){\n",
    "    tmp <- listy[[i]] %>%\n",
    "        filter(B < 20) %>%\n",
    "        summarise(ndetected = length(unique(trajectory))) #This is counting segments with rates of less than 20\n",
    "    detectioncount <- append(detectioncount, tmp$ndetected)\n",
    "    }\n",
    "detectioncount = unlist(detectioncount)"
   ]
  },
  {
   "cell_type": "code",
   "execution_count": 5,
   "metadata": {
    "collapsed": true
   },
   "outputs": [],
   "source": [
    "ratelist <- c(rep(50,20),rep(100,20),rep(150,20),rep(200,20))\n",
    "\n",
    "pauseduration <- c(rep(seq(1,20,by=1),4))\n",
    "resultframe <- data.frame(ratelist, pauseduration, detectioncount)"
   ]
  },
  {
   "cell_type": "code",
   "execution_count": 6,
   "metadata": {
    "collapsed": true
   },
   "outputs": [],
   "source": [
    "singlecount <- c()\t\n",
    "meansingleposlist <- c()\n",
    "for (i in 1:length(listy)){\n",
    "        tmp <- listy[[i]] %>%\n",
    "        group_by(trajectory) %>%\n",
    "        mutate(ndetected = n() - 1) %>%\n",
    "        filter(ndetected == 1) %>%\n",
    "        ungroup() %>%\n",
    "        summarise(count = n(), meanpos = mean(x1))\n",
    "    singlecount <- append(singlecount, tmp$count)\n",
    "    meansingleposlist <- append(meansingleposlist, tmp$meanpos)\n",
    "    }\n",
    "singlecount = unlist(singlecount)\n",
    "meansingleposlist = unlist(meansingleposlist)"
   ]
  },
  {
   "cell_type": "code",
   "execution_count": 7,
   "metadata": {
    "collapsed": true
   },
   "outputs": [],
   "source": [
    "resultframe$singlecptcount <- singlecount\n",
    "resultframe$meansinglepos <- meansingleposlist"
   ]
  },
  {
   "cell_type": "code",
   "execution_count": 8,
   "metadata": {
    "collapsed": true
   },
   "outputs": [],
   "source": [
    "meancountlist <- c()\n",
    "mediancountlist <- c()\n",
    "for (i in 1:length(listy)){\n",
    "    tmp <- listy[[i]] %>% group_by(trajectory) %>%\n",
    "    summarise(ndetected = n() - 1) %>%\n",
    "    ungroup() %>%\n",
    "    summarise(meandetected = mean(ndetected), mediancount = median(ndetected))\n",
    "    meancountlist <- append(meancountlist, tmp$meandetected)\n",
    "    mediancountlist <- append(mediancountlist, tmp$mediancount)\n",
    "    }\n",
    "meancountlist = unlist(meancountlist)\n",
    "mediancountlist = unlist(mediancountlist)\n",
    "resultframe$meancount <- meancountlist\n",
    "resultframe$mediancount <- mediancountlist"
   ]
  },
  {
   "cell_type": "code",
   "execution_count": 9,
   "metadata": {},
   "outputs": [
    {
     "data": {},
     "metadata": {},
     "output_type": "display_data"
    },
    {
     "data": {
      "image/png": "[encoded data removed]",
      "text/plain": [
       "plot without title"
      ]
     },
     "metadata": {},
     "output_type": "display_data"
    }
   ],
   "source": [
    "pauselist <- c(rep(seq(1,20,by=1),4))\n",
    "pausesdetected <- ggplot(resultframe, aes(x=pauselist, y = detectioncount/10000, \n",
    "                                          group = factor(ratelist),\n",
    "                                          shape = factor(ratelist),\n",
    "                                          colour = factor(ratelist)))+\n",
    "                geom_point(size = 1)+\n",
    "                geom_line(size = 0.5)+\n",
    "                theme_bw(12)+\n",
    "                scale_colour_discrete(\"Rate\")+\n",
    "                scale_shape(\"Rate\")+\n",
    "                scale_x_continuous(limits = c(0,20))+\n",
    "                labs(x = \"Pause Duration\", y = \"Fraction of pauses detected\")+\n",
    "                theme(legend.position=c(1,0.75),legend.justification = c(1, 1))\n",
    "                #ggsave(\"pausesdetected.png\", pausesdetected, dpi = 600)\n",
    "pausesdetected"
   ]
  },
  {
   "cell_type": "code",
   "execution_count": 10,
   "metadata": {},
   "outputs": [
    {
     "data": {},
     "metadata": {},
     "output_type": "display_data"
    },
    {
     "data": {
      "text/html": [
       "<strong>png:</strong> 2"
      ],
      "text/latex": [
       "\\textbf{png:} 2"
      ],
      "text/markdown": [
       "**png:** 2"
      ],
      "text/plain": [
       "png \n",
       "  2 "
      ]
     },
     "metadata": {},
     "output_type": "display_data"
    }
   ],
   "source": [
    "svglite(file = \"pausesdetected.svg\", width = 3.3, height = 3.3)\n",
    "pausesdetected\n",
    "dev.off()"
   ]
  },
  {
   "cell_type": "code",
   "execution_count": 11,
   "metadata": {
    "collapsed": true
   },
   "outputs": [],
   "source": [
    "measuredduration <- c()\n",
    "durationsd <- c()\n",
    "for (i in 1:length(listy)){\n",
    "tmp <- listy[[i]] %>%\n",
    "filter(B < 20 & x2 > 49 & x1 < 50) %>%\n",
    "summarise(meanduration = mean(duration, na.rm = TRUE),sdduration = sd(duration, na.rm = TRUE))\n",
    "measuredduration <- append(measuredduration, tmp$meanduration)\n",
    "durationsd <- append(durationsd, tmp$sdduration)\n",
    "}\n",
    "measuredduration <- unlist(measuredduration)\n",
    "durationsd <- unlist(durationsd)\n",
    "resultframe2 <- data.frame(ratelist, pauselist, detectioncount, measuredduration, durationsd)\n",
    "resultframe2$discrepancy = with(resultframe2, measuredduration - pauselist)"
   ]
  },
  {
   "cell_type": "code",
   "execution_count": 20,
   "metadata": {},
   "outputs": [
    {
     "name": "stderr",
     "output_type": "stream",
     "text": [
      "Warning message:\n",
      "\"Removed 6 rows containing missing values (geom_point).\"Warning message:\n",
      "\"Removed 6 rows containing missing values (geom_path).\""
     ]
    },
    {
     "data": {},
     "metadata": {},
     "output_type": "display_data"
    },
    {
     "data": {
      "image/png": "[encoded data removed]",
      "text/plain": [
       "plot without title"
      ]
     },
     "metadata": {},
     "output_type": "display_data"
    }
   ],
   "source": [
    "scaleFUN <- function(x) sprintf(\"%.2f\", x)\n",
    "discrepancyplot <- ggplot(resultframe2, aes(x=pauselist, \n",
    "                                            y = discrepancy,\n",
    "                                            shape = factor(ratelist), \n",
    "                                            group = factor(ratelist), \n",
    "                                            colour = factor(ratelist)))+\n",
    "            geom_point(size = 1)+\n",
    "            geom_line(size = 0.5)+\n",
    "            scale_colour_discrete(\"Rate\")+\n",
    "            scale_shape(\"Rate\")+\n",
    "            theme_bw(12)+\n",
    "            labs(x = \"Pause Duration\", y = \"Measured \\u2013 actual duration\")+\n",
    "            scale_x_continuous(limits = c(0,20))+\n",
    "            scale_y_continuous(labels=scaleFUN)+\n",
    "            #theme(legend.position=\"none\")\n",
    "            theme(legend.position=c(1,1),legend.justification = c(1, 1))\n",
    "            #ggsave(\"discrepancyplot.png\", discrepancyplot, dpi = 600)\n",
    "discrepancyplot"
   ]
  },
  {
   "cell_type": "code",
   "execution_count": 21,
   "metadata": {},
   "outputs": [
    {
     "name": "stderr",
     "output_type": "stream",
     "text": [
      "Warning message:\n",
      "\"Removed 6 rows containing missing values (geom_point).\"Warning message:\n",
      "\"Removed 6 rows containing missing values (geom_path).\""
     ]
    },
    {
     "data": {},
     "metadata": {},
     "output_type": "display_data"
    },
    {
     "data": {
      "text/html": [
       "<strong>png:</strong> 2"
      ],
      "text/latex": [
       "\\textbf{png:} 2"
      ],
      "text/markdown": [
       "**png:** 2"
      ],
      "text/plain": [
       "png \n",
       "  2 "
      ]
     },
     "metadata": {},
     "output_type": "display_data"
    }
   ],
   "source": [
    "svglite(file = \"discrepancyplot.svg\", width = 3.3, height = 3.3)\n",
    "discrepancyplot\n",
    "dev.off()"
   ]
  }
 ],
 "metadata": {
  "kernelspec": {
   "display_name": "R",
   "language": "R",
   "name": "ir"
  },
  "language_info": {
   "codemirror_mode": "r",
   "file_extension": ".r",
   "mimetype": "text/x-r-source",
   "name": "R",
   "pygments_lexer": "r",
   "version": "3.3.3"
  }
 },
 "nbformat": 4,
 "nbformat_minor": 1
}
