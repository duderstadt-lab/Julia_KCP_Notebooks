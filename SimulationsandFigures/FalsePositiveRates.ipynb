{
 "cells": [
  {
   "cell_type": "markdown",
   "metadata": {},
   "source": [
    "# Figure 2: False Positives - Large dataset of noise"
   ]
  },
  {
   "cell_type": "markdown",
   "metadata": {},
   "source": [
    "First, a dataset of 100,000 trajectories of length 500 with noise of size 100 will be generated. This will then be searched for changepoints at various confidence thresholds, and the rates of false positives determined as a function of position for each confidence threshold. This requires Python 3, Julia v0.6 and R, including the specified Python and R libraries, as well as the change point source file for Julia. Imporantly, it also requires Jupyter notebook kernels for R and Julia be installed."
   ]
  },
  {
   "cell_type": "markdown",
   "metadata": {},
   "source": [
    "## Python 3 Kernel - Trajectory Simulation"
   ]
  },
  {
   "cell_type": "code",
   "execution_count": 1,
   "metadata": {
    "collapsed": true
   },
   "outputs": [],
   "source": [
    "import matplotlib as mpl\n",
    "import matplotlib.pyplot as plt\n",
    "import random\n",
    "import numpy as np\n",
    "import pandas as pd\n",
    "import itertools"
   ]
  },
  {
   "cell_type": "markdown",
   "metadata": {},
   "source": [
    "The random seed has been set to 53. This will allow you to replicate the same results presented in the JCP paper."
   ]
  },
  {
   "cell_type": "code",
   "execution_count": 2,
   "metadata": {
    "collapsed": true
   },
   "outputs": [],
   "source": [
    "random.seed(53)\n",
    "np.random.seed(53)"
   ]
  },
  {
   "cell_type": "code",
   "execution_count": 3,
   "metadata": {
    "collapsed": true
   },
   "outputs": [],
   "source": [
    "def nocpt(duration, noise, ntrajectories):\n",
    "    position = [0]*duration*ntrajectories\n",
    "    nucleotides = np.array(position) + np.random.normal(loc=0, scale = noise, size = duration*ntrajectories)\n",
    "    time = list(range(duration))*ntrajectories\n",
    "    trajectory = np.repeat(range(0,ntrajectories),duration)\n",
    "    results = pd.DataFrame({'time' : time,\n",
    "                           'nucleotides' : nucleotides,\n",
    "                           'trajectory' : trajectory})\n",
    "    return results;\n",
    "        "
   ]
  },
  {
   "cell_type": "code",
   "execution_count": 4,
   "metadata": {
    "collapsed": true
   },
   "outputs": [],
   "source": [
    "data = nocpt(500, 100, 100000)"
   ]
  },
  {
   "cell_type": "markdown",
   "metadata": {},
   "source": [
    "This is a very large dataset, and in order to run change point analysis on computers with less than 16 GB of RAM, it will need to be split up."
   ]
  },
  {
   "cell_type": "code",
   "execution_count": 5,
   "metadata": {
    "collapsed": true
   },
   "outputs": [],
   "source": [
    "data1 = data[0:10000000]\n",
    "data2 = data[10000000:20000000]\n",
    "data3 = data[20000000:30000000]\n",
    "data4 = data[30000000:40000000]\n",
    "data5 = data[40000000:50000000]"
   ]
  },
  {
   "cell_type": "code",
   "execution_count": 6,
   "metadata": {
    "collapsed": true
   },
   "outputs": [],
   "source": [
    "data1.to_csv('nocpt_1.csv', index = False, columns=['time', 'nucleotides', 'trajectory'])\n",
    "data2.to_csv('nocpt_2.csv', index = False, columns=['time', 'nucleotides', 'trajectory'])\n",
    "data3.to_csv('nocpt_3.csv', index = False, columns=['time', 'nucleotides', 'trajectory'])\n",
    "data4.to_csv('nocpt_4.csv', index = False, columns=['time', 'nucleotides', 'trajectory'])\n",
    "data5.to_csv('nocpt_5.csv', index = False, columns=['time', 'nucleotides', 'trajectory'])"
   ]
  },
  {
   "cell_type": "markdown",
   "metadata": {},
   "source": [
    "## Julia 0.6 Kernel - Change Point Analysis"
   ]
  },
  {
   "cell_type": "markdown",
   "metadata": {},
   "source": [
    "Now switch to a Julia 0.6 kernel, and import the kinetic change point functions."
   ]
  },
  {
   "cell_type": "code",
   "execution_count": 1,
   "metadata": {},
   "outputs": [
    {
     "data": {
      "text/plain": [
       "getchangepoints (generic function with 3 methods)"
      ]
     },
     "execution_count": 1,
     "metadata": {},
     "output_type": "execute_result"
    }
   ],
   "source": [
    "include(\"../src/KineticChangepoints.jl\")"
   ]
  },
  {
   "cell_type": "markdown",
   "metadata": {},
   "source": [
    "Get the change points at a few difference confidence levels. This function is explained in the notebook contained in the 'examples' folder."
   ]
  },
  {
   "cell_type": "code",
   "execution_count": 2,
   "metadata": {
    "collapsed": true
   },
   "outputs": [],
   "source": [
    "for i in [1, 2, 3, 4, 5]\n",
    "    sourcefile = string(\"nocpt_\", i, \".csv\")\n",
    "    outputfile = string(i, \"_segments69.csv\")\n",
    "    getchangepoints(sourcefile, outputfile, 100, 0.69, ',', [1, 2, 3]);\n",
    "end"
   ]
  },
  {
   "cell_type": "code",
   "execution_count": 3,
   "metadata": {
    "collapsed": true
   },
   "outputs": [],
   "source": [
    "for i in [1, 2, 3, 4, 5]\n",
    "    sourcefile = string(\"nocpt_\", i, \".csv\")\n",
    "    outputfile = string(i, \"_segments90.csv\")\n",
    "    getchangepoints(sourcefile, outputfile, 100, 0.90, ',', [1, 2, 3]);\n",
    "end"
   ]
  },
  {
   "cell_type": "code",
   "execution_count": 4,
   "metadata": {
    "collapsed": true
   },
   "outputs": [],
   "source": [
    "for i in [1, 2, 3, 4, 5]\n",
    "    sourcefile = string(\"nocpt_\", i, \".csv\")\n",
    "    outputfile = string(i, \"_segments95.csv\")\n",
    "    getchangepoints(sourcefile, outputfile, 100, 0.95, ',', [1, 2, 3]);\n",
    "end"
   ]
  },
  {
   "cell_type": "code",
   "execution_count": 5,
   "metadata": {
    "collapsed": true
   },
   "outputs": [],
   "source": [
    "for i in [1, 2, 3, 4, 5]\n",
    "    sourcefile = string(\"nocpt_\", i, \".csv\")\n",
    "    outputfile = string(i, \"_segments99.csv\")\n",
    "    getchangepoints(sourcefile, outputfile, 100, 0.99, ',', [1, 2, 3]);\n",
    "end"
   ]
  },
  {
   "cell_type": "markdown",
   "metadata": {},
   "source": [
    "## R Kernel - Analysis and Plots"
   ]
  },
  {
   "cell_type": "markdown",
   "metadata": {},
   "source": [
    "Now switch to an R kernel and import the segments tables."
   ]
  },
  {
   "cell_type": "code",
   "execution_count": 1,
   "metadata": {
    "collapsed": true
   },
   "outputs": [],
   "source": [
    "suppressMessages(suppressWarnings(library(tidyverse)))\n",
    "suppressMessages(suppressWarnings(library(svglite)))"
   ]
  },
  {
   "cell_type": "code",
   "execution_count": 2,
   "metadata": {
    "collapsed": true
   },
   "outputs": [],
   "source": [
    "cptlist69 = c()\n",
    "for (i in c(1, 2, 3, 4, 5)){\n",
    "    cptlist69 = append(cptlist69, paste0(i,\"_segments69.csv\"))\n",
    "    }\n",
    "listy69 <- list()\n",
    "for (i in 1:length(cptlist69)){\n",
    "    tmp <-  suppressWarnings(suppressMessages(read_csv(cptlist69[i])))\n",
    "    tmp <- tmp %>% filter(x1 != 0) %>%\n",
    "        mutate(confidence = 69)\n",
    "    listy69[[i]] <- tmp\n",
    "    }\n",
    "    \n",
    "falsepos69 <- bind_rows(listy69[[1]], listy69[[2]], listy69[[3]], listy69[[4]], listy69[[5]])"
   ]
  },
  {
   "cell_type": "code",
   "execution_count": 3,
   "metadata": {
    "collapsed": true
   },
   "outputs": [],
   "source": [
    "cptlist90 = c()\n",
    "for (i in c(1, 2, 3, 4, 5)){\n",
    "    cptlist90 = append(cptlist90, paste0(i,\"_segments90.csv\"))\n",
    "    }\n",
    "listy90 <- list()\n",
    "for (i in 1:length(cptlist90)){\n",
    "    tmp <-  suppressWarnings(suppressMessages(read_csv(cptlist90[i])))\n",
    "    tmp <- tmp %>% filter(x1 != 0) %>%\n",
    "        mutate(confidence = 90)\n",
    "    listy90[[i]] <- tmp\n",
    "    }\n",
    "falsepos90 <- bind_rows(listy90[[1]], listy90[[2]], listy90[[3]], listy90[[4]], listy90[[5]])"
   ]
  },
  {
   "cell_type": "code",
   "execution_count": 4,
   "metadata": {
    "collapsed": true
   },
   "outputs": [],
   "source": [
    "cptlist95 = c()\n",
    "for (i in c(1, 2, 3, 4, 5)){\n",
    "    cptlist95 = append(cptlist95, paste0(i,\"_segments95.csv\"))\n",
    "    }\n",
    "listy95 <- list()\n",
    "for (i in 1:length(cptlist95)){\n",
    "    tmp <-  suppressWarnings(suppressMessages(read_csv(cptlist95[i])))\n",
    "    tmp <- tmp %>% filter(x1 != 0) %>%\n",
    "        mutate(confidence = 95)\n",
    "    listy95[[i]] <- tmp\n",
    "    }\n",
    "falsepos95 <- bind_rows(listy95[[1]], listy95[[2]], listy95[[3]], listy95[[4]], listy95[[5]])"
   ]
  },
  {
   "cell_type": "code",
   "execution_count": 5,
   "metadata": {
    "collapsed": true
   },
   "outputs": [],
   "source": [
    "cptlist99 = c()\n",
    "for (i in c(1, 2, 3, 4, 5)){\n",
    "    cptlist99 = append(cptlist99, paste0(i,\"_segments99.csv\"))\n",
    "    }\n",
    "listy99 <- list()\n",
    "for (i in 1:length(cptlist99)){\n",
    "    tmp <-  suppressWarnings(suppressMessages(read_csv(cptlist99[i])))\n",
    "    tmp <- tmp %>% filter(x1 != 0) %>%\n",
    "        mutate(confidence = 99)\n",
    "    listy99[[i]] <- tmp\n",
    "    }\n",
    "falsepos99 <- bind_rows(listy99[[1]], listy99[[2]], listy99[[3]], listy99[[4]], listy99[[5]])"
   ]
  },
  {
   "cell_type": "code",
   "execution_count": 6,
   "metadata": {
    "collapsed": true
   },
   "outputs": [],
   "source": [
    "falsepos69_2 <- falsepos69 %>% group_by(x1) %>% summarise(count69 = n())\n",
    "falsepos69_2$x1 <- factor(falsepos69_2$x1, levels = seq(2,496))\n",
    "falsepos90_2 <- falsepos90 %>% group_by(x1) %>% summarise(count90 = n())\n",
    "falsepos90_2$x1 <- factor(falsepos90_2$x1, levels = seq(2,496))\n",
    "falsepos95_2 <- falsepos95 %>% group_by(x1) %>% summarise(count95 = n())\n",
    "falsepos95_2$x1 <- factor(falsepos95_2$x1, levels = seq(2,496))\n",
    "falsepos99_2 <- falsepos99 %>% group_by(x1) %>% summarise(count99 = n())\n",
    "falsepos99_2$x1 <- factor(falsepos99_2$x1, levels = seq(2,496))\n",
    "falsepos99_2 <- falsepos99_2 %>% complete(x1)\n",
    "falsepos99_2$count99[is.na(falsepos99_2$count99)] <- 0\n",
    "falsepos <- left_join(falsepos69_2, falsepos90_2, by = \"x1\")\n",
    "falsepos <- left_join(falsepos, falsepos95_2, by = \"x1\")\n",
    "falsepos <- left_join(falsepos, falsepos99_2, by = \"x1\")\n",
    "falsepos <- falsepos %>% gather(threshold, count, -x1)"
   ]
  },
  {
   "cell_type": "markdown",
   "metadata": {},
   "source": [
    "Find out the rate of false positives at each confidence threshold:"
   ]
  },
  {
   "cell_type": "code",
   "execution_count": 7,
   "metadata": {},
   "outputs": [
    {
     "name": "stdout",
     "output_type": "stream",
     "text": [
      "$rate\n",
      "[1] 67.84\n",
      "\n",
      "$rate\n",
      "[1] 15.907\n",
      "\n",
      "$rate\n",
      "[1] 7.443\n",
      "\n",
      "$rate\n",
      "[1] 1.377\n",
      "\n"
     ]
    }
   ],
   "source": [
    "falsepos69_3 <- falsepos69_2 %>%\n",
    "                summarise(rate = 100*sum(count69)/100000)\n",
    "falsepos90_3 <- falsepos90_2 %>%\n",
    "                summarise(rate = 100*sum(count90)/100000)\n",
    "falsepos95_3 <- falsepos95_2 %>%\n",
    "                summarise(rate = 100*sum(count95)/100000)\n",
    "falsepos99_3 <- falsepos99_2 %>%\n",
    "                summarise(rate = 100*sum(count99)/100000)\n",
    "print(c(falsepos69_3, falsepos90_3, falsepos95_3, falsepos99_3))"
   ]
  },
  {
   "cell_type": "markdown",
   "metadata": {},
   "source": [
    "Plot false positives as a function of position and confidence threshold."
   ]
  },
  {
   "cell_type": "code",
   "execution_count": 8,
   "metadata": {},
   "outputs": [
    {
     "data": {},
     "metadata": {},
     "output_type": "display_data"
    },
    {
     "data": {
      "image/png": "[encoded data removed]",
      "text/plain": [
       "plot without title"
      ]
     },
     "metadata": {},
     "output_type": "display_data"
    }
   ],
   "source": [
    "falseposplot <- ggplot(falsepos[falsepos$threshold != 'count69',], aes(x = x1, y = count/100000, group = threshold, colour = threshold))+\n",
    "                geom_line(size = 0.5)+\n",
    "                theme_bw(12) + \n",
    "                theme(panel.grid.minor = element_blank(), axis.line = element_line(colour = \"black\"))+\n",
    "                scale_x_discrete(breaks=seq(0,500,100), labels =seq(0,500,100))+\n",
    "                labs(x = \"Time\", y = \"False positive rate\")+\n",
    "                scale_colour_discrete(name=\"Confidence\\nThreshold\",labels=c(\"0.90\", \"0.95\", \"0.99\"))+\n",
    "                theme(legend.position=c(0.5,0.75),legend.justification = c(1, 1))\n",
    "falseposplot"
   ]
  },
  {
   "cell_type": "markdown",
   "metadata": {},
   "source": [
    "Get a publication-ready svg file:"
   ]
  },
  {
   "cell_type": "code",
   "execution_count": 9,
   "metadata": {},
   "outputs": [
    {
     "data": {},
     "metadata": {},
     "output_type": "display_data"
    },
    {
     "data": {
      "text/html": [
       "<strong>png:</strong> 2"
      ],
      "text/latex": [
       "\\textbf{png:} 2"
      ],
      "text/markdown": [
       "**png:** 2"
      ],
      "text/plain": [
       "png \n",
       "  2 "
      ]
     },
     "metadata": {},
     "output_type": "display_data"
    }
   ],
   "source": [
    "svglite(file = \"falseposplot.svg\", width = 3.8, height = 2.5)\n",
    "falseposplot\n",
    "dev.off()"
   ]
  }
 ],
 "metadata": {
  "kernelspec": {
   "display_name": "R",
   "language": "R",
   "name": "ir"
  },
  "language_info": {
   "codemirror_mode": "r",
   "file_extension": ".r",
   "mimetype": "text/x-r-source",
   "name": "R",
   "pygments_lexer": "r",
   "version": "3.3.3"
  }
 },
 "nbformat": 4,
 "nbformat_minor": 1
}
