{
 "cells": [
  {
   "cell_type": "markdown",
   "metadata": {},
   "source": [
    "# Figure 2: False Positives - Large dataset of noise"
   ]
  },
  {
   "cell_type": "markdown",
   "metadata": {},
   "source": [
    "First, a dataset of 100,000 trajectories of length 500 with noise of size 100 will be generated. This will then be searched for changepoints at various confidence thresholds, and the rates of false positives determined as a function of position for each confidence threshold. This requires Python 3, Julia v0.6 and R, including the specified Python and R libraries, as well as the change point source file for Julia. Imporantly, it also requires Jupyter notebook kernels for R and Julia be installed."
   ]
  },
  {
   "cell_type": "markdown",
   "metadata": {},
   "source": [
    "## Python 3 Kernel - Trajectory Simulation"
   ]
  },
  {
   "cell_type": "code",
   "execution_count": 1,
   "metadata": {
    "collapsed": true
   },
   "outputs": [],
   "source": [
    "import matplotlib as mpl\n",
    "import matplotlib.pyplot as plt\n",
    "import random\n",
    "import numpy as np\n",
    "import beadpy\n",
    "import pandas as pd\n",
    "import itertools"
   ]
  },
  {
   "cell_type": "code",
   "execution_count": 2,
   "metadata": {
    "collapsed": true
   },
   "outputs": [],
   "source": [
    "random.seed(53)"
   ]
  },
  {
   "cell_type": "code",
   "execution_count": 3,
   "metadata": {
    "collapsed": true
   },
   "outputs": [],
   "source": [
    "def nocpt(duration, noise, ntrajectories):\n",
    "    position = [0]*duration*ntrajectories\n",
    "    nucleotides = np.array(position) + np.random.normal(loc=0, scale = noise, size = duration*ntrajectories)\n",
    "    time = list(range(duration))*ntrajectories\n",
    "    trajectory = np.repeat(range(0,ntrajectories),duration)\n",
    "    results = pd.DataFrame({'time' : time,\n",
    "                           'nucleotides' : nucleotides,\n",
    "                           'trajectory' : trajectory})\n",
    "    return results;\n",
    "        "
   ]
  },
  {
   "cell_type": "code",
   "execution_count": 4,
   "metadata": {
    "collapsed": true
   },
   "outputs": [],
   "source": [
    "data = nocpt(500, 100, 100000)"
   ]
  },
  {
   "cell_type": "code",
   "execution_count": 5,
   "metadata": {
    "collapsed": true
   },
   "outputs": [],
   "source": [
    "data.to_csv('nocpt_100000.csv', index = False, columns=['time', 'nucleotides', 'trajectory'])"
   ]
  },
  {
   "cell_type": "markdown",
   "metadata": {},
   "source": [
    "## Julia 0.6 Kernel - Change Point Analysis"
   ]
  },
  {
   "cell_type": "markdown",
   "metadata": {},
   "source": [
    "Now switch to a Julia 0.6 kernel, and import the kinetic change point functions."
   ]
  },
  {
   "cell_type": "code",
   "execution_count": 1,
   "metadata": {},
   "outputs": [
    {
     "data": {
      "text/plain": [
       "getchangepoints (generic function with 3 methods)"
      ]
     },
     "execution_count": 1,
     "metadata": {},
     "output_type": "execute_result"
    }
   ],
   "source": [
    "include(\"../src/KineticChangepoints.jl\")"
   ]
  },
  {
   "cell_type": "markdown",
   "metadata": {},
   "source": [
    "Get the change points at a few difference confidence levels. This function is explained in the notebook contained in the 'examples' folder."
   ]
  },
  {
   "cell_type": "code",
   "execution_count": 2,
   "metadata": {
    "collapsed": true
   },
   "outputs": [],
   "source": [
    "getchangepoints(\"nocpt_100000.csv\", \"segments69.csv\", 100, 0.69, ',', [1, 2, 3]);"
   ]
  },
  {
   "cell_type": "code",
   "execution_count": 3,
   "metadata": {
    "collapsed": true
   },
   "outputs": [],
   "source": [
    "getchangepoints(\"nocpt_100000.csv\", \"segments90.csv\", 100, 0.90, ',', [1, 2, 3]);"
   ]
  },
  {
   "cell_type": "code",
   "execution_count": 4,
   "metadata": {
    "collapsed": true
   },
   "outputs": [],
   "source": [
    "getchangepoints(\"nocpt_100000.csv\", \"segments95.csv\", 100, 0.95, ',', [1, 2, 3]);"
   ]
  },
  {
   "cell_type": "code",
   "execution_count": 5,
   "metadata": {
    "collapsed": true
   },
   "outputs": [],
   "source": [
    "getchangepoints(\"nocpt_100000.csv\", \"segments99.csv\", 100, 0.99, ',', [1, 2, 3]);"
   ]
  },
  {
   "cell_type": "markdown",
   "metadata": {},
   "source": [
    "## R Kernel - Analysis and Plots"
   ]
  },
  {
   "cell_type": "markdown",
   "metadata": {},
   "source": [
    "Now switch to an R kernel and import the segments tables."
   ]
  },
  {
   "cell_type": "code",
   "execution_count": 1,
   "metadata": {
    "collapsed": true
   },
   "outputs": [],
   "source": [
    "suppressMessages(suppressWarnings(library(tidyverse)))\n",
    "suppressMessages(suppressWarnings(library(svglite)))"
   ]
  },
  {
   "cell_type": "code",
   "execution_count": 2,
   "metadata": {
    "collapsed": true
   },
   "outputs": [],
   "source": [
    "cptsegments99 <- suppressWarnings(suppressMessages(read_csv(\"segments99.csv\")))\n",
    "cptsegments95 <- suppressWarnings(suppressMessages(read_csv(\"segments95.csv\")))\n",
    "cptsegments90 <- suppressWarnings(suppressMessages(read_csv(\"segments90.csv\")))\n",
    "cptsegments69 <- suppressWarnings(suppressMessages(read_csv(\"segments69.csv\")))"
   ]
  },
  {
   "cell_type": "code",
   "execution_count": 3,
   "metadata": {
    "collapsed": true
   },
   "outputs": [],
   "source": [
    "falsepos99 <- cptsegments99 %>% filter(x1 != 0) %>% mutate(confidence = 99)\n",
    "falsepos95 <- cptsegments95 %>% filter(x1 != 0) %>% mutate(confidence = 95)\n",
    "falsepos90 <- cptsegments90 %>% filter(x1 != 0) %>% mutate(confidence = 90)\n",
    "falsepos69 <- cptsegments69 %>% filter(x1 != 0) %>% mutate(confidence = 69)"
   ]
  },
  {
   "cell_type": "code",
   "execution_count": 4,
   "metadata": {
    "collapsed": true
   },
   "outputs": [],
   "source": [
    "falseposminiframe <- bind_rows(falsepos99,falsepos95,falsepos90,falsepos69)"
   ]
  },
  {
   "cell_type": "code",
   "execution_count": 5,
   "metadata": {
    "collapsed": true
   },
   "outputs": [],
   "source": [
    "falsepos69_2 <- falsepos69 %>% group_by(x1) %>% summarise(count69 = n())\n",
    "falsepos69_2$x1 <- factor(falsepos69_2$x1, levels = seq(2,496))\n",
    "falsepos90_2 <- falsepos90 %>% group_by(x1) %>% summarise(count90 = n())\n",
    "falsepos90_2$x1 <- factor(falsepos90_2$x1, levels = seq(2,496))\n",
    "falsepos95_2 <- falsepos95 %>% group_by(x1) %>% summarise(count95 = n())\n",
    "falsepos95_2$x1 <- factor(falsepos95_2$x1, levels = seq(2,496))\n",
    "falsepos99_2 <- falsepos99 %>% group_by(x1) %>% summarise(count99 = n())\n",
    "falsepos99_2$x1 <- factor(falsepos99_2$x1, levels = seq(2,496))\n",
    "falsepos99_2 <- falsepos99_2 %>% complete(x1)\n",
    "falsepos99_2$count99[is.na(falsepos99_2$count99)] <- 0\n",
    "falsepos <- left_join(falsepos69_2, falsepos90_2, by = \"x1\")\n",
    "falsepos <- left_join(falsepos, falsepos95_2, by = \"x1\")\n",
    "falsepos <- left_join(falsepos, falsepos99_2, by = \"x1\")\n",
    "falsepos <- falsepos %>% gather(threshold, count, -x1)"
   ]
  },
  {
   "cell_type": "markdown",
   "metadata": {},
   "source": [
    "Find out the rate of false positives at each confidence threshold:"
   ]
  },
  {
   "cell_type": "code",
   "execution_count": 6,
   "metadata": {
    "collapsed": true
   },
   "outputs": [],
   "source": [
    "falsepos69_3 <- falsepos69_2 %>%\n",
    "                summarise(rate = 100*sum(count69)/100000)\n",
    "falsepos90_3 <- falsepos90_2 %>%\n",
    "                summarise(rate = 100*sum(count90)/100000)\n",
    "falsepos95_3 <- falsepos95_2 %>%\n",
    "                summarise(rate = 100*sum(count95)/100000)\n",
    "falsepos99_3 <- falsepos99_2 %>%\n",
    "                summarise(rate = 100*sum(count99)/100000)"
   ]
  },
  {
   "cell_type": "markdown",
   "metadata": {},
   "source": [
    "Plot false positives as a function of position and confidence threshold."
   ]
  },
  {
   "cell_type": "code",
   "execution_count": 7,
   "metadata": {},
   "outputs": [
    {
     "data": {},
     "metadata": {},
     "output_type": "display_data"
    },
    {
     "data": {
      "image/png": "[encoded data removed]",
      "text/plain": [
       "plot without title"
      ]
     },
     "metadata": {},
     "output_type": "display_data"
    }
   ],
   "source": [
    "falseposplot <- ggplot(falsepos[falsepos$threshold != 'count69',], aes(x = x1, y = count/100000, group = threshold, colour = threshold))+\n",
    "                geom_line(size = 0.5)+\n",
    "                theme_bw(12) + \n",
    "                theme(panel.grid.minor = element_blank(), axis.line = element_line(colour = \"black\"))+\n",
    "                scale_x_discrete(breaks=seq(0,500,100), labels =seq(0,500,100))+\n",
    "                labs(x = \"Time\", y = \"False positive rate\")+\n",
    "                scale_colour_discrete(name=\"Confidence\\nThreshold\",labels=c(\"0.90\", \"0.95\", \"0.99\"))\n",
    "falseposplot"
   ]
  },
  {
   "cell_type": "markdown",
   "metadata": {},
   "source": [
    "Get a publication-ready svg file:"
   ]
  },
  {
   "cell_type": "code",
   "execution_count": 8,
   "metadata": {},
   "outputs": [
    {
     "data": {},
     "metadata": {},
     "output_type": "display_data"
    },
    {
     "data": {
      "text/html": [
       "<strong>png:</strong> 2"
      ],
      "text/latex": [
       "\\textbf{png:} 2"
      ],
      "text/markdown": [
       "**png:** 2"
      ],
      "text/plain": [
       "png \n",
       "  2 "
      ]
     },
     "metadata": {},
     "output_type": "display_data"
    }
   ],
   "source": [
    "svglite(file = \"falseposplot.svg\", width = 3.37, height = 2)\n",
    "falseposplot\n",
    "dev.off()"
   ]
  }
 ],
 "metadata": {
  "kernelspec": {
   "display_name": "R",
   "language": "R",
   "name": "ir"
  },
  "language_info": {
   "codemirror_mode": "r",
   "file_extension": ".r",
   "mimetype": "text/x-r-source",
   "name": "R",
   "pygments_lexer": "r",
   "version": "3.3.3"
  }
 },
 "nbformat": 4,
 "nbformat_minor": 1
}
