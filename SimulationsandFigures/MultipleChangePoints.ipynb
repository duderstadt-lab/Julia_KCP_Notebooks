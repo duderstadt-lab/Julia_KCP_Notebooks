{
 "cells": [
  {
   "cell_type": "markdown",
   "metadata": {},
   "source": [
    "# Figure 5: Multiple changepoints, evenly spaced with random rate changes"
   ]
  },
  {
   "cell_type": "markdown",
   "metadata": {},
   "source": [
    "## Python 3 Kernel - Trajectory Simulation"
   ]
  },
  {
   "cell_type": "code",
   "execution_count": 1,
   "metadata": {
    "collapsed": true
   },
   "outputs": [],
   "source": [
    "import matplotlib as mpl\n",
    "import matplotlib.pyplot as plt\n",
    "import random\n",
    "import numpy as np\n",
    "import beadpy\n",
    "import pandas as pd\n",
    "import itertools"
   ]
  },
  {
   "cell_type": "code",
   "execution_count": 2,
   "metadata": {
    "collapsed": true
   },
   "outputs": [],
   "source": [
    "%matplotlib inline"
   ]
  },
  {
   "cell_type": "code",
   "execution_count": 3,
   "metadata": {
    "collapsed": true
   },
   "outputs": [],
   "source": [
    "random.seed(53)\n",
    "np.random.seed(53)"
   ]
  },
  {
   "cell_type": "code",
   "execution_count": 4,
   "metadata": {
    "collapsed": true
   },
   "outputs": [],
   "source": [
    "def multicpt_defined(event_duration,cpt_separation, meanrate, rate_sigma, noise_sigma,ntraj):\n",
    "    total_duration = event_duration*ntraj\n",
    "    ncpt = int(event_duration/cpt_separation)\n",
    "    total_ncpt = int(ncpt*ntraj)\n",
    "    ratevalues = np.random.normal(loc=meanrate, scale = rate_sigma, size = total_ncpt)\n",
    "    ratesequence = np.repeat(ratevalues, cpt_separation)\n",
    "    position = np.cumsum(ratesequence) #This means each successive trajectory starts off where the last one left, but that doesn't matter for our purposes.\n",
    "    position_withnoise = np.array(position) + np.random.normal(loc=meanrate, scale = noise_sigma, size = total_duration)\n",
    "    time = np.tile(range(0, event_duration), ntraj)\n",
    "    trajseq = np.repeat(range(0,ntraj), event_duration)\n",
    "    results = pd.DataFrame({'time' : time,\n",
    "                        'nucleotides' : position_withnoise,\n",
    "                            'position' : position,\n",
    "                           'trajectory' : trajseq})\n",
    "    return results"
   ]
  },
  {
   "cell_type": "code",
   "execution_count": 5,
   "metadata": {
    "collapsed": true
   },
   "outputs": [],
   "source": [
    "def multicpt_defined_dataset(event_duration, meanrate, rate_sigma, noise_sigma,ntraj):\n",
    "    for i in [4,5,10,20,25,50]:\n",
    "        data = multicpt_defined(event_duration,i, meanrate, rate_sigma, noise_sigma,ntraj)\n",
    "        data.to_csv(str(i)+'_multicpt.csv', index = False, columns=['time', 'nucleotides', 'trajectory', 'position'])       \n",
    "    return 0;"
   ]
  },
  {
   "cell_type": "code",
   "execution_count": 6,
   "metadata": {},
   "outputs": [
    {
     "data": {
      "text/plain": [
       "0"
      ]
     },
     "execution_count": 6,
     "metadata": {},
     "output_type": "execute_result"
    }
   ],
   "source": [
    "multicpt_defined_dataset(100, 0, 200, 100,10000)"
   ]
  },
  {
   "cell_type": "code",
   "execution_count": 7,
   "metadata": {
    "collapsed": true
   },
   "outputs": [],
   "source": [
    "def multicpt_defined_dataset2(event_duration, meanrate, rate_sigma, noise_sigma,ntraj):\n",
    "    for i in [15,35]:\n",
    "        data = multicpt_defined(event_duration,i, meanrate, rate_sigma, noise_sigma,ntraj)\n",
    "        data.to_csv(str(i)+'_multicpt.csv', index = False, columns=['time', 'nucleotides', 'trajectory', 'position'])       \n",
    "    return 0;"
   ]
  },
  {
   "cell_type": "code",
   "execution_count": 8,
   "metadata": {},
   "outputs": [
    {
     "data": {
      "text/plain": [
       "0"
      ]
     },
     "execution_count": 8,
     "metadata": {},
     "output_type": "execute_result"
    }
   ],
   "source": [
    "multicpt_defined_dataset2(105, 0, 200, 100,10000)"
   ]
  },
  {
   "cell_type": "code",
   "execution_count": 9,
   "metadata": {
    "collapsed": true
   },
   "outputs": [],
   "source": [
    "def multicpt_defined_dataset3(event_duration, meanrate, rate_sigma, noise_sigma,ntraj):\n",
    "    for i in [30,40]:\n",
    "        data = multicpt_defined(event_duration,i, meanrate, rate_sigma, noise_sigma,ntraj)\n",
    "        data.to_csv(str(i)+'_multicpt.csv', index = False, columns=['time', 'nucleotides', 'trajectory', 'position'])       \n",
    "    return 0;"
   ]
  },
  {
   "cell_type": "code",
   "execution_count": 10,
   "metadata": {},
   "outputs": [
    {
     "data": {
      "text/plain": [
       "0"
      ]
     },
     "execution_count": 10,
     "metadata": {},
     "output_type": "execute_result"
    }
   ],
   "source": [
    "multicpt_defined_dataset3(120, 0, 200, 100,10000)"
   ]
  },
  {
   "cell_type": "code",
   "execution_count": 11,
   "metadata": {
    "collapsed": true
   },
   "outputs": [],
   "source": [
    "def multicpt_defined_dataset4(event_duration, meanrate, rate_sigma, noise_sigma,ntraj):\n",
    "    for i in [45]:\n",
    "        data = multicpt_defined(event_duration,i, meanrate, rate_sigma, noise_sigma,ntraj)\n",
    "        data.to_csv(str(i)+'_multicpt.csv', index = False, columns=['time', 'nucleotides', 'trajectory', 'position'])       \n",
    "    return 0;"
   ]
  },
  {
   "cell_type": "code",
   "execution_count": 12,
   "metadata": {},
   "outputs": [
    {
     "data": {
      "text/plain": [
       "0"
      ]
     },
     "execution_count": 12,
     "metadata": {},
     "output_type": "execute_result"
    }
   ],
   "source": [
    "multicpt_defined_dataset4(135, 0, 200, 100,10000)"
   ]
  },
  {
   "cell_type": "markdown",
   "metadata": {
    "collapsed": true
   },
   "source": [
    "## Julia 0.6 Kernel - Change Point Analysis"
   ]
  },
  {
   "cell_type": "markdown",
   "metadata": {},
   "source": [
    "Now switich to the Julia 0.6 kernel, import the change point functions and run change point analysis."
   ]
  },
  {
   "cell_type": "code",
   "execution_count": 1,
   "metadata": {},
   "outputs": [
    {
     "data": {
      "text/plain": [
       "getchangepoints (generic function with 3 methods)"
      ]
     },
     "execution_count": 1,
     "metadata": {},
     "output_type": "execute_result"
    }
   ],
   "source": [
    "include(\"../src/KineticChangepoints.jl\")"
   ]
  },
  {
   "cell_type": "code",
   "execution_count": 2,
   "metadata": {
    "collapsed": true
   },
   "outputs": [],
   "source": [
    "for i in [4,5,10,15,20,25,30,35,40,45,50]\n",
    "    sourcefile = string(i, \"_multicpt.csv\")\n",
    "    outputfile = string(i, \"_multicpt_segs.csv\")\n",
    "    getchangepoints(sourcefile, outputfile, 100, 0.99, ',', [1, 2, 3]);\n",
    "end"
   ]
  },
  {
   "cell_type": "markdown",
   "metadata": {},
   "source": [
    "## R Kernel - Analysis and Plotting"
   ]
  },
  {
   "cell_type": "code",
   "execution_count": 1,
   "metadata": {
    "collapsed": true
   },
   "outputs": [],
   "source": [
    "suppressWarnings(suppressMessages(library(tidyverse)))\n",
    "suppressWarnings(suppressMessages(library(svglite)))"
   ]
  },
  {
   "cell_type": "code",
   "execution_count": 2,
   "metadata": {
    "collapsed": true
   },
   "outputs": [],
   "source": [
    "cptlist = c()\n",
    "for (i in c(4,5,10,15,20,25,30,35,40,45,50)){\n",
    "    cptlist = append(cptlist, paste0(i,\"_multicpt_segs.csv\"))\n",
    "    }"
   ]
  },
  {
   "cell_type": "code",
   "execution_count": 3,
   "metadata": {
    "collapsed": true
   },
   "outputs": [],
   "source": [
    "listy <- list()\n",
    "for (i in 1:length(cptlist)){\n",
    "    tmp <-  suppressWarnings(suppressMessages(read_csv(cptlist[i])))\n",
    "    tmp <- tmp %>%\n",
    "        group_by(trajectory) %>%\n",
    "        mutate(ncpt = n() - 1) %>%\n",
    "        ungroup() %>%\n",
    "        mutate(trajectory = as.integer(as.numeric(trajectory))) #necessary due to a quirk in number formatting output by Julia.\n",
    "    listy[[i]] <- tmp\n",
    "    }"
   ]
  },
  {
   "cell_type": "code",
   "execution_count": 4,
   "metadata": {
    "collapsed": true
   },
   "outputs": [],
   "source": [
    "truecount = c(24,19,9,6,4,3,3,2,2,2,1)\n",
    "separations = c(4,5,10,15,20,25,30,35,40,45,50)"
   ]
  },
  {
   "cell_type": "code",
   "execution_count": 5,
   "metadata": {
    "collapsed": true
   },
   "outputs": [],
   "source": [
    "fracdiscoveredlist <- list()\n",
    "for (i in 1:length(listy)){\n",
    "    tmp <- listy[[i]] %>% ungroup() %>%\n",
    "        filter(x1 != 0) %>%\n",
    "        summarise(fracdiscovered = n()/(10000*truecount[[i]]))\n",
    "    fracdiscoveredlist <- append(fracdiscoveredlist, tmp$fracdiscovered)\n",
    "    }\n",
    "\n",
    "resframe <- data.frame(truecount, separations,  fracdiscovered = unlist(fracdiscoveredlist))"
   ]
  },
  {
   "cell_type": "code",
   "execution_count": 6,
   "metadata": {},
   "outputs": [
    {
     "data": {},
     "metadata": {},
     "output_type": "display_data"
    },
    {
     "data": {
      "image/png": "[encoded data removed]",
      "text/plain": [
       "plot without title"
      ]
     },
     "metadata": {},
     "output_type": "display_data"
    }
   ],
   "source": [
    "truevsdiscovered <- ggplot(resframe, aes(x = separations, y = fracdiscovered))+\n",
    "geom_line(size = 0.5)+\n",
    "geom_point(size=1)+\n",
    "#geom_errorbar(aes(ymin=fracdiscovered-fracsd, ymax=fracdiscovered+fracsd), width=.1)+\n",
    "theme_bw(12)+\n",
    "scale_x_continuous(labels = seq(0,50,5), breaks = seq(0,50,5))+\n",
    "labs(x = \"Separation between change points\", y = \"Discovered Count/True Count\")#+\n",
    "#scale_y_continuous(labels = c(0,0.5,1,1.5), breaks = c(0,0.5,1,1.5))\n",
    "truevsdiscovered"
   ]
  },
  {
   "cell_type": "code",
   "execution_count": 7,
   "metadata": {},
   "outputs": [
    {
     "data": {},
     "metadata": {},
     "output_type": "display_data"
    },
    {
     "data": {
      "text/html": [
       "<strong>png:</strong> 2"
      ],
      "text/latex": [
       "\\textbf{png:} 2"
      ],
      "text/markdown": [
       "**png:** 2"
      ],
      "text/plain": [
       "png \n",
       "  2 "
      ]
     },
     "metadata": {},
     "output_type": "display_data"
    }
   ],
   "source": [
    "svglite(file = \"truevsdiscovered.svg\", width = 3.3, height = 3)\n",
    "truevsdiscovered\n",
    "dev.off()"
   ]
  },
  {
   "cell_type": "markdown",
   "metadata": {},
   "source": [
    "Plot some example trajectories."
   ]
  },
  {
   "cell_type": "code",
   "execution_count": 8,
   "metadata": {
    "collapsed": true
   },
   "outputs": [],
   "source": [
    "highdensity <- read.csv(\"10_multicpt.csv\")\n",
    "lowdensity <- read.csv(\"35_multicpt.csv\")\n",
    "mediumdensity <- read.csv(\"20_multicpt.csv\")"
   ]
  },
  {
   "cell_type": "code",
   "execution_count": 9,
   "metadata": {
    "collapsed": true
   },
   "outputs": [],
   "source": [
    "exampletrajectory = 1"
   ]
  },
  {
   "cell_type": "code",
   "execution_count": 10,
   "metadata": {
    "collapsed": true
   },
   "outputs": [],
   "source": [
    "examplehigh <- highdensity %>% filter(trajectory == exampletrajectory)\n",
    "examplelow <- lowdensity %>% filter(trajectory == exampletrajectory)\n",
    "examplemedium <- mediumdensity %>% filter(trajectory == exampletrajectory)\n",
    "#rm(highdensity, lowdensity, mediumdensity)"
   ]
  },
  {
   "cell_type": "code",
   "execution_count": 11,
   "metadata": {
    "collapsed": true
   },
   "outputs": [],
   "source": [
    "outputlow <- listy[[8]] %>% filter(trajectory == exampletrajectory)\n",
    "outputmedium <- listy[[5]] %>% filter(trajectory == exampletrajectory)\n",
    "outputhigh <- listy[[3]] %>% filter(trajectory == exampletrajectory)"
   ]
  },
  {
   "cell_type": "code",
   "execution_count": 12,
   "metadata": {},
   "outputs": [
    {
     "data": {},
     "metadata": {},
     "output_type": "display_data"
    },
    {
     "data": {
      "image/png": "[encoded data removed]",
      "text/plain": [
       "plot without title"
      ]
     },
     "metadata": {},
     "output_type": "display_data"
    }
   ],
   "source": [
    "examplelowplot <- ggplot(examplelow, aes(x = time))+\n",
    "            #geom_line(size = 0.5, aes(y = position), colour = \"blue\")+\n",
    "            geom_line(size = 0.5, aes(y = nucleotides - examplelow$nucleotides[[1]]))+\n",
    "            theme_bw(12)+\n",
    "            scale_y_continuous(position = \"right\")+\n",
    "            scale_x_continuous(breaks = c(0,34,69,105), labels = c(0, 35, 70, 105))+\n",
    "            geom_vline(xintercept = outputlow$x2, linetype = \"dotted\", colour = \"red\")+\n",
    "            geom_vline(xintercept = 0, linetype = \"dotted\", colour = \"red\")+\n",
    "            labs(x = \"Time\", y = \"Position\")\n",
    "examplelowplot"
   ]
  },
  {
   "cell_type": "code",
   "execution_count": 13,
   "metadata": {},
   "outputs": [
    {
     "data": {},
     "metadata": {},
     "output_type": "display_data"
    },
    {
     "data": {
      "text/html": [
       "<strong>png:</strong> 2"
      ],
      "text/latex": [
       "\\textbf{png:} 2"
      ],
      "text/markdown": [
       "**png:** 2"
      ],
      "text/plain": [
       "png \n",
       "  2 "
      ]
     },
     "metadata": {},
     "output_type": "display_data"
    }
   ],
   "source": [
    "svglite(file = \"examplelowplot_fig5.svg\", width = 3.3, height = 3)\n",
    "examplelowplot\n",
    "dev.off()"
   ]
  },
  {
   "cell_type": "code",
   "execution_count": 14,
   "metadata": {},
   "outputs": [
    {
     "data": {},
     "metadata": {},
     "output_type": "display_data"
    },
    {
     "data": {
      "image/png": "[encoded data removed]",
      "text/plain": [
       "plot without title"
      ]
     },
     "metadata": {},
     "output_type": "display_data"
    }
   ],
   "source": [
    "examplemediumplot <- ggplot(examplemedium, aes(x = time))+\n",
    "            #geom_line(size = 0.5, aes(y = position), colour = \"blue\")+\n",
    "            geom_line(size = 0.5, aes(y = nucleotides - examplemedium$nucleotides[[1]]))+\n",
    "            theme_bw(12)+\n",
    "            scale_y_continuous(position = \"left\")+\n",
    "            scale_x_continuous(breaks = c(0,20,40,60,80,100), labels = c(0,20,40,60,80,100))+\n",
    "            geom_vline(xintercept = outputmedium$x2, linetype = \"dotted\", colour = \"red\")+\n",
    "            geom_vline(xintercept = 0, linetype = \"dotted\", colour = \"red\")+\n",
    "            labs(x = \"Time\", y = \"Position\")\n",
    "examplemediumplot"
   ]
  },
  {
   "cell_type": "code",
   "execution_count": 15,
   "metadata": {},
   "outputs": [
    {
     "data": {},
     "metadata": {},
     "output_type": "display_data"
    },
    {
     "data": {
      "text/html": [
       "<strong>png:</strong> 2"
      ],
      "text/latex": [
       "\\textbf{png:} 2"
      ],
      "text/markdown": [
       "**png:** 2"
      ],
      "text/plain": [
       "png \n",
       "  2 "
      ]
     },
     "metadata": {},
     "output_type": "display_data"
    }
   ],
   "source": [
    "svglite(file = \"examplemediumplot_fig5.svg\", width = 3.3, height = 3)\n",
    "examplemediumplot\n",
    "dev.off()"
   ]
  },
  {
   "cell_type": "code",
   "execution_count": 16,
   "metadata": {},
   "outputs": [
    {
     "data": {},
     "metadata": {},
     "output_type": "display_data"
    },
    {
     "data": {
      "image/png": "[encoded data removed]",
      "text/plain": [
       "plot without title"
      ]
     },
     "metadata": {},
     "output_type": "display_data"
    }
   ],
   "source": [
    "examplehighplot <- ggplot(examplehigh, aes(x = time))+\n",
    "            #geom_line(size = 0.5, aes(y = position), colour = \"blue\")+\n",
    "            geom_line(size = 0.5, aes(y = nucleotides- examplehigh$nucleotides[[1]]))+\n",
    "            theme_bw(12)+\n",
    "            scale_y_continuous(position = \"right\")+\n",
    "            scale_x_continuous(breaks = c(0,10,20,30,40,50,60,70,80,90,100), labels = c(0,10,20,30,40,50,60,70,80,90,100))+\n",
    "            geom_vline(xintercept = outputhigh$x2, linetype = \"dotted\", colour = \"red\")+\n",
    "            geom_vline(xintercept = 0, linetype = \"dotted\", colour = \"red\")+\n",
    "            labs(x = \"Time\", y = \"Position\")\n",
    "examplehighplot"
   ]
  },
  {
   "cell_type": "code",
   "execution_count": 17,
   "metadata": {},
   "outputs": [
    {
     "data": {},
     "metadata": {},
     "output_type": "display_data"
    },
    {
     "data": {
      "text/html": [
       "<strong>png:</strong> 2"
      ],
      "text/latex": [
       "\\textbf{png:} 2"
      ],
      "text/markdown": [
       "**png:** 2"
      ],
      "text/plain": [
       "png \n",
       "  2 "
      ]
     },
     "metadata": {},
     "output_type": "display_data"
    }
   ],
   "source": [
    "svglite(file = \"examplehighplot_fig5.svg\", width = 3.3, height = 3)\n",
    "examplehighplot\n",
    "dev.off()"
   ]
  }
 ],
 "metadata": {
  "kernelspec": {
   "display_name": "R",
   "language": "R",
   "name": "ir"
  },
  "language_info": {
   "codemirror_mode": "r",
   "file_extension": ".r",
   "mimetype": "text/x-r-source",
   "name": "R",
   "pygments_lexer": "r",
   "version": "3.3.3"
  }
 },
 "nbformat": 4,
 "nbformat_minor": 1
}
