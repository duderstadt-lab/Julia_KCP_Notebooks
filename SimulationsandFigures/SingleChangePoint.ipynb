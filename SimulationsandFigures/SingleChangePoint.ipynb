{
 "cells": [
  {
   "cell_type": "markdown",
   "metadata": {},
   "source": [
    "# Figure 3: Single Changepoint, varying length or rate change"
   ]
  },
  {
   "cell_type": "markdown",
   "metadata": {},
   "source": [
    "This requires Python 3, Julia v0.6 and R, including the specified Python and R libraries, as well as the change point source file for Julia. Imporantly, it also requires Jupyter notebook kernels for R and Julia be installed."
   ]
  },
  {
   "cell_type": "markdown",
   "metadata": {},
   "source": [
    "## Python 3 Kernel - Simulate Trajectories"
   ]
  },
  {
   "cell_type": "code",
   "execution_count": 1,
   "metadata": {
    "collapsed": true
   },
   "outputs": [],
   "source": [
    "import matplotlib as mpl\n",
    "import matplotlib.pyplot as plt\n",
    "import random\n",
    "import numpy as np\n",
    "import beadpy\n",
    "import pandas as pd\n",
    "import itertools"
   ]
  },
  {
   "cell_type": "markdown",
   "metadata": {},
   "source": [
    "Set a random seed for reproducible results:"
   ]
  },
  {
   "cell_type": "code",
   "execution_count": 2,
   "metadata": {
    "collapsed": true
   },
   "outputs": [],
   "source": [
    "random.seed(53)\n",
    "np.random.seed(53)"
   ]
  },
  {
   "cell_type": "code",
   "execution_count": 3,
   "metadata": {
    "collapsed": true
   },
   "outputs": [],
   "source": [
    "%matplotlib inline"
   ]
  },
  {
   "cell_type": "code",
   "execution_count": 4,
   "metadata": {
    "collapsed": true
   },
   "outputs": [],
   "source": [
    "def single_cpt_fastversion(event_duration,\n",
    "             rate_1,\n",
    "              rate_2,\n",
    "              noise_sigma,\n",
    "              ntraj):\n",
    "    rate_sequence = [rate_1]*int(event_duration/2)\n",
    "    rate_sequence = rate_sequence + [rate_2]*int(event_duration/2)\n",
    "    position = np.cumsum(rate_sequence)\n",
    "    position  = np.tile(position, ntraj)\n",
    "    position_withnoise = np.array(position) + np.random.normal(loc=0, scale = noise_sigma, size = event_duration*ntraj)\n",
    "    time = np.tile(range(0, event_duration), ntraj)\n",
    "    trajseq = np.repeat(range(0,ntraj), event_duration)\n",
    "    results = pd.DataFrame({'time' : time,\n",
    "                        'nucleotides' : position_withnoise,\n",
    "                            'position' : position,\n",
    "                           'trajectory' : trajseq})\n",
    "    return results"
   ]
  },
  {
   "cell_type": "code",
   "execution_count": 5,
   "metadata": {},
   "outputs": [
    {
     "data": {
      "text/plain": [
       "[<matplotlib.lines.Line2D at 0x1d8f74ad198>]"
      ]
     },
     "execution_count": 5,
     "metadata": {},
     "output_type": "execute_result"
    },
    {
     "data": {
      "image/png": "[encoded data removed]",
      "text/plain": [
       "<matplotlib.figure.Figure at 0x1d8fc013470>"
      ]
     },
     "metadata": {},
     "output_type": "display_data"
    }
   ],
   "source": [
    "test1 = single_cpt_fastversion(100,50,75,100,1)\n",
    "plt.plot(test1.time,test1.nucleotides)"
   ]
  },
  {
   "cell_type": "code",
   "execution_count": 6,
   "metadata": {
    "collapsed": true
   },
   "outputs": [],
   "source": [
    "def singlecpt_dataset(event_duration = 100, rate_1 = 50, noise_sigma = 100, ntraj = 10000):\n",
    "    \n",
    "    for i in range(50,250,10):\n",
    "        ratechange = i\n",
    "        data = single_cpt_fastversion(event_duration,\n",
    "             rate_1,\n",
    "              ratechange,\n",
    "              noise_sigma,\n",
    "              ntraj)\n",
    "        data.to_csv(str(ratechange)+'.csv', index=False, columns=['time', 'nucleotides', 'trajectory', 'position'])       \n",
    "    return 0;"
   ]
  },
  {
   "cell_type": "code",
   "execution_count": 7,
   "metadata": {},
   "outputs": [
    {
     "data": {
      "text/plain": [
       "0"
      ]
     },
     "execution_count": 7,
     "metadata": {},
     "output_type": "execute_result"
    }
   ],
   "source": [
    "singlecpt_dataset()"
   ]
  },
  {
   "cell_type": "code",
   "execution_count": 8,
   "metadata": {
    "collapsed": true
   },
   "outputs": [],
   "source": [
    "def singlecpt_dataset_variablelength(event_duration = 100, rate_1 = 50, noise_sigma = 100, ntraj = 10000):\n",
    "    \n",
    "    for i in range(6,42,2):\n",
    "        event_duration = i\n",
    "        data = single_cpt_fastversion(event_duration,\n",
    "             rate_1,\n",
    "              100,\n",
    "              noise_sigma,\n",
    "              ntraj)\n",
    "        data.to_csv(str(event_duration)+'_length.csv', index=False, columns=['time', 'nucleotides', 'trajectory', 'position'])       \n",
    "    return 0;"
   ]
  },
  {
   "cell_type": "code",
   "execution_count": 9,
   "metadata": {},
   "outputs": [
    {
     "data": {
      "text/plain": [
       "0"
      ]
     },
     "execution_count": 9,
     "metadata": {},
     "output_type": "execute_result"
    }
   ],
   "source": [
    "singlecpt_dataset_variablelength()"
   ]
  },
  {
   "cell_type": "markdown",
   "metadata": {},
   "source": [
    "## Julia 0.6 Kernel - Change Point Analysis"
   ]
  },
  {
   "cell_type": "markdown",
   "metadata": {},
   "source": [
    "Now switich to the Julia 0.6 kernel, import the change point functions and run change point analysis."
   ]
  },
  {
   "cell_type": "code",
   "execution_count": 1,
   "metadata": {},
   "outputs": [
    {
     "data": {
      "text/plain": [
       "getchangepoints (generic function with 3 methods)"
      ]
     },
     "execution_count": 1,
     "metadata": {},
     "output_type": "execute_result"
    }
   ],
   "source": [
    "include(\"../src/KineticChangepoints.jl\")"
   ]
  },
  {
   "cell_type": "code",
   "execution_count": 2,
   "metadata": {
    "collapsed": true
   },
   "outputs": [],
   "source": [
    "for i in collect(50:10:240)\n",
    "    sourcefile = string(i, \".csv\")\n",
    "    outputfile = string(\"segs_\", i, \".csv\")\n",
    "    getchangepoints(sourcefile, outputfile, 100, 0.99, ',', [1, 2, 3]);\n",
    "end"
   ]
  },
  {
   "cell_type": "code",
   "execution_count": 3,
   "metadata": {
    "collapsed": true
   },
   "outputs": [],
   "source": [
    "for i in collect(6:2:40)\n",
    "    sourcefile = string(i, \"_length.csv\")\n",
    "    outputfile = string(\"segs_\", i, \".csv\")\n",
    "    getchangepoints(sourcefile, outputfile, 100, 0.99, ',', [1, 2, 3]);\n",
    "end"
   ]
  },
  {
   "cell_type": "markdown",
   "metadata": {},
   "source": [
    "## R Kernel - Analysis and Plotting"
   ]
  },
  {
   "cell_type": "markdown",
   "metadata": {},
   "source": [
    "Now switch to an R kernel, import necessary libraries and analyse the data for varying <i>R</i><sub>change</sub>."
   ]
  },
  {
   "cell_type": "code",
   "execution_count": 1,
   "metadata": {
    "collapsed": true
   },
   "outputs": [],
   "source": [
    "suppressWarnings(suppressMessages(library(tidyverse)))\n",
    "suppressWarnings(suppressMessages(library(svglite)))"
   ]
  },
  {
   "cell_type": "markdown",
   "metadata": {},
   "source": [
    "### Varying <i>R</i><sub>change</sub>"
   ]
  },
  {
   "cell_type": "code",
   "execution_count": 2,
   "metadata": {
    "collapsed": true
   },
   "outputs": [],
   "source": [
    "cptlist = c()\n",
    "for (i in seq(50,240,10)){\n",
    "    cptlist = append(cptlist, paste0(\"segs_\", i,\".csv\"))\n",
    "    }"
   ]
  },
  {
   "cell_type": "code",
   "execution_count": 3,
   "metadata": {
    "collapsed": true
   },
   "outputs": [],
   "source": [
    "listy <- list()\n",
    "for (i in 1:length(cptlist)){\n",
    "    tmp <-  suppressWarnings(suppressMessages(read_csv(cptlist[i])))\n",
    "    tmp <- tmp %>%\n",
    "        group_by(trajectory) %>%\n",
    "        mutate(ncpt = n() - 1)\n",
    "    listy[[i]] <- tmp\n",
    "    }"
   ]
  },
  {
   "cell_type": "code",
   "execution_count": 4,
   "metadata": {
    "collapsed": true
   },
   "outputs": [],
   "source": [
    "ratechangelist = list()\n",
    "for (i in 1:length(listy)){ratechangelist[[i]] = ((1.0 + (i-1)/5.0)*50 - 50)/100}\n",
    "ratechangelist = unlist(ratechangelist)"
   ]
  },
  {
   "cell_type": "code",
   "execution_count": 5,
   "metadata": {
    "collapsed": true
   },
   "outputs": [],
   "source": [
    "locationlist <- list()\n",
    "sdlist <- list()\n",
    "for (i in 1:length(listy)){\n",
    "    framy <- listy[[i]] %>% filter(x2 != 99)\n",
    "    sdvals <- framy %>% ungroup %>% summarise(meanx2 = mean(x2), sdx2 = sd(x2))\n",
    "    locationlist <- append(locationlist, sdvals$meanx2)\n",
    "    sdlist <- append(sdlist, sdvals$sdx2)\n",
    "    }\n",
    "locationaccuracy <- data.frame(location = unlist(locationlist) - 49.5, stdev = unlist(sdlist), ratechange = ratechangelist)\n",
    "locationaccuracy <- locationaccuracy %>% filter(ratechange != 0)"
   ]
  },
  {
   "cell_type": "code",
   "execution_count": 6,
   "metadata": {},
   "outputs": [
    {
     "data": {},
     "metadata": {},
     "output_type": "display_data"
    },
    {
     "data": {
      "image/png": "[encoded data removed]",
      "text/plain": [
       "plot without title"
      ]
     },
     "metadata": {},
     "output_type": "display_data"
    }
   ],
   "source": [
    "#Bonus figure:\n",
    "rchange =  expression(italic(R)*{}[change])\n",
    "accuracyplot <- ggplot(locationaccuracy, aes(x = ratechange, y = location))+\n",
    "    geom_line(size = 0.5)+\n",
    "    geom_point(size = 1)+\n",
    "    geom_errorbar(aes(ymin=location-stdev, ymax=location+stdev), width=.1) +\n",
    "    theme_bw(12)+\n",
    "    labs(x = rchange, y = \"Distance from\\ntrue change point\")+\n",
    "    scale_x_continuous(labels = seq(0.1,10,0.2), breaks = seq(0.1,10,0.2))\n",
    "accuracyplot\n",
    "#ggsave(\"accuracyplot.png\", accuracyplot, dpi = 600)"
   ]
  },
  {
   "cell_type": "code",
   "execution_count": 7,
   "metadata": {
    "collapsed": true
   },
   "outputs": [],
   "source": [
    "positions_accuracy <- list()\n",
    "rchangelist <- list()\n",
    "for (i in 2:length(listy)){ #For clarity used only every 4th member of listy in published version\n",
    "    testtraj = listy[[i]]\n",
    "    posvals <- testtraj %>%\n",
    "        filter(x2 != 99) %>%\n",
    "        mutate(rchange = ((1.0 + (i-1)/5.0)*50 - 50)/100)\n",
    "    positions_accuracy <- append(positions_accuracy, posvals$x2)\n",
    "    rchangelist <- append(rchangelist, posvals$rchange)\n",
    "}\n",
    "\n",
    "bing <- unlist(positions_accuracy)\n",
    "rchanges <- unlist(rchangelist)\n",
    "cphist <- data.frame(bing, rchanges)"
   ]
  },
  {
   "cell_type": "code",
   "execution_count": 8,
   "metadata": {},
   "outputs": [
    {
     "data": {},
     "metadata": {},
     "output_type": "display_data"
    },
    {
     "data": {
      "image/png": "[encoded data removed]",
      "text/plain": [
       "plot without title"
      ]
     },
     "metadata": {},
     "output_type": "display_data"
    }
   ],
   "source": [
    "bighist <- ggplot(cphist %>% filter(rchanges==0.1 |   rchanges==0.4 |  rchanges== 0.8 | rchanges== 1.2 | rchanges == 1.6),\n",
    "                                    aes(x = bing - 49.5, group = factor(rchanges), fill = rchanges))+\n",
    "geom_density(alpha = 0.4,bw = 1)+\n",
    "theme_bw(12)+\n",
    "labs(x = \"Distance from true change point\", y = \"Density\")+\n",
    "scale_fill_gradientn(rchange, colours=topo.colors(7),na.value = \"transparent\",\n",
    "                           breaks=c(0.1,0.4,0.8,1.2, 1.6),labels=c(0.1,0.4,0.8,1.2, 1.6),\n",
    "                           limits=c(0,1.7))+\n",
    "theme(legend.position=c(1,0.75),legend.justification = c(1, 1))\n",
    "bighist\n",
    "#ggsave(\"bighist.png\", bighist, dpi = 600)"
   ]
  },
  {
   "cell_type": "code",
   "execution_count": 9,
   "metadata": {},
   "outputs": [
    {
     "data": {},
     "metadata": {},
     "output_type": "display_data"
    },
    {
     "data": {
      "text/html": [
       "<strong>png:</strong> 2"
      ],
      "text/latex": [
       "\\textbf{png:} 2"
      ],
      "text/markdown": [
       "**png:** 2"
      ],
      "text/plain": [
       "png \n",
       "  2 "
      ]
     },
     "metadata": {},
     "output_type": "display_data"
    }
   ],
   "source": [
    "svglite(file = \"bighist.svg\", width = 3.3, height = 3)\n",
    "bighist\n",
    "dev.off()"
   ]
  },
  {
   "cell_type": "markdown",
   "metadata": {},
   "source": [
    "### Plot example trajectories"
   ]
  },
  {
   "cell_type": "code",
   "execution_count": 10,
   "metadata": {
    "collapsed": true
   },
   "outputs": [],
   "source": [
    "lowrchange <- read.csv(\"60.csv\")\n",
    "mediumrchange <- read.csv(\"100.csv\")\n",
    "highrchange <- read.csv(\"200.csv\")"
   ]
  },
  {
   "cell_type": "code",
   "execution_count": 11,
   "metadata": {
    "collapsed": true
   },
   "outputs": [],
   "source": [
    "examplelow <- lowrchange %>% filter(trajectory == 0)\n",
    "examplemedium <- mediumrchange %>% filter(trajectory == 0)\n",
    "examplehigh <- highrchange %>% filter(trajectory == 0)\n",
    "#rm(lowrchange, mediumrchange, highrchange)"
   ]
  },
  {
   "cell_type": "code",
   "execution_count": 12,
   "metadata": {
    "collapsed": true
   },
   "outputs": [],
   "source": [
    "outputlow <- listy[[2]] %>% filter(trajectory == 0)\n",
    "outputmedium <- listy[[6]] %>% filter(trajectory == 0)\n",
    "outputhigh <- listy[[16]] %>% filter(trajectory == 0)"
   ]
  },
  {
   "cell_type": "code",
   "execution_count": 13,
   "metadata": {},
   "outputs": [
    {
     "data": {},
     "metadata": {},
     "output_type": "display_data"
    },
    {
     "data": {
      "image/png": "[encoded data removed]",
      "text/plain": [
       "plot without title"
      ]
     },
     "metadata": {},
     "output_type": "display_data"
    }
   ],
   "source": [
    "examplelowplot <- ggplot(examplelow, aes(x = time))+\n",
    "geom_line(size = 0.5, aes(y = nucleotides))+\n",
    "#geom_line(size = 0.5, aes(y = position), colour = \"blue\")+\n",
    "theme_bw(12)+\n",
    "scale_y_continuous(position = \"left\")+\n",
    "geom_vline(xintercept = outputlow$x2[1], linetype = \"dotted\", colour = \"red\")+\n",
    "labs(x = \"Time\", y = \"Position\")\n",
    "examplelowplot"
   ]
  },
  {
   "cell_type": "code",
   "execution_count": 14,
   "metadata": {},
   "outputs": [
    {
     "data": {},
     "metadata": {},
     "output_type": "display_data"
    },
    {
     "data": {
      "text/html": [
       "<strong>png:</strong> 2"
      ],
      "text/latex": [
       "\\textbf{png:} 2"
      ],
      "text/markdown": [
       "**png:** 2"
      ],
      "text/plain": [
       "png \n",
       "  2 "
      ]
     },
     "metadata": {},
     "output_type": "display_data"
    }
   ],
   "source": [
    "svglite(file = \"examplelowplot.svg\", width = 3.3, height = 3)\n",
    "examplelowplot\n",
    "dev.off()"
   ]
  },
  {
   "cell_type": "code",
   "execution_count": 15,
   "metadata": {},
   "outputs": [
    {
     "data": {},
     "metadata": {},
     "output_type": "display_data"
    },
    {
     "data": {
      "image/png": "[encoded data removed]",
      "text/plain": [
       "plot without title"
      ]
     },
     "metadata": {},
     "output_type": "display_data"
    }
   ],
   "source": [
    "examplemediumplot <- ggplot(examplemedium, aes(x = time))+\n",
    "geom_line(size = 0.5, aes(y = nucleotides))+\n",
    "#geom_line(size = 0.5, aes(y = position), colour = \"blue\")+\n",
    "theme_bw(12)+\n",
    "scale_y_continuous(position = \"right\")+\n",
    "geom_vline(xintercept = outputmedium$x2[1], linetype = \"dotted\", colour = \"red\")+\n",
    "labs(x = \"Time\", y = \"Position\")\n",
    "examplemediumplot"
   ]
  },
  {
   "cell_type": "code",
   "execution_count": 16,
   "metadata": {},
   "outputs": [
    {
     "data": {},
     "metadata": {},
     "output_type": "display_data"
    },
    {
     "data": {
      "text/html": [
       "<strong>png:</strong> 2"
      ],
      "text/latex": [
       "\\textbf{png:} 2"
      ],
      "text/markdown": [
       "**png:** 2"
      ],
      "text/plain": [
       "png \n",
       "  2 "
      ]
     },
     "metadata": {},
     "output_type": "display_data"
    }
   ],
   "source": [
    "svglite(file = \"examplemediumplot.svg\", width = 3.3, height = 3)\n",
    "examplemediumplot\n",
    "dev.off()"
   ]
  },
  {
   "cell_type": "code",
   "execution_count": 17,
   "metadata": {},
   "outputs": [
    {
     "data": {},
     "metadata": {},
     "output_type": "display_data"
    },
    {
     "data": {
      "image/png": "[encoded data removed]",
      "text/plain": [
       "plot without title"
      ]
     },
     "metadata": {},
     "output_type": "display_data"
    }
   ],
   "source": [
    "examplehighplot <- ggplot(examplehigh, aes(x = time))+\n",
    "geom_line(size = 0.5, aes(y = nucleotides))+\n",
    "#geom_line(size = 0.5, aes(y = position), colour = \"blue\")+\n",
    "theme_bw(12)+\n",
    "scale_y_continuous(position = \"right\")+\n",
    "geom_vline(xintercept = outputhigh$x2[1], linetype = \"dotted\", colour = \"red\")+\n",
    "labs(x = \"Time\", y = \"Position\")\n",
    "examplehighplot"
   ]
  },
  {
   "cell_type": "code",
   "execution_count": 18,
   "metadata": {},
   "outputs": [
    {
     "data": {},
     "metadata": {},
     "output_type": "display_data"
    },
    {
     "data": {
      "text/html": [
       "<strong>png:</strong> 2"
      ],
      "text/latex": [
       "\\textbf{png:} 2"
      ],
      "text/markdown": [
       "**png:** 2"
      ],
      "text/plain": [
       "png \n",
       "  2 "
      ]
     },
     "metadata": {},
     "output_type": "display_data"
    }
   ],
   "source": [
    "svglite(file = \"examplehighplot.svg\", width = 3.3, height = 3)\n",
    "examplehighplot\n",
    "dev.off()"
   ]
  },
  {
   "cell_type": "markdown",
   "metadata": {},
   "source": [
    "### Varying Length"
   ]
  },
  {
   "cell_type": "markdown",
   "metadata": {},
   "source": [
    "Run change point analysis and save the output files as segs_i.csv, where i is the trajectory length."
   ]
  },
  {
   "cell_type": "code",
   "execution_count": 19,
   "metadata": {
    "collapsed": true
   },
   "outputs": [],
   "source": [
    "cptlist2 = c()\n",
    "for (i in seq(6,40,2)){\n",
    "    cptlist2 = append(cptlist2, paste0(\"segs_\", i,\".csv\"))\n",
    "    }"
   ]
  },
  {
   "cell_type": "code",
   "execution_count": 20,
   "metadata": {
    "collapsed": true
   },
   "outputs": [],
   "source": [
    "listy2 <- list()\n",
    "for (i in 1:length(cptlist2)){\n",
    "    tmp <-  suppressWarnings(suppressMessages(read_csv(cptlist2[i])))\n",
    "    tmp <- tmp %>%\n",
    "        group_by(trajectory) %>%\n",
    "        mutate(ncpt = n() - 1)\n",
    "    listy2[[i]] <- tmp\n",
    "    }"
   ]
  },
  {
   "cell_type": "code",
   "execution_count": 21,
   "metadata": {
    "collapsed": true
   },
   "outputs": [],
   "source": [
    "cpcount <- list()\n",
    "for (i in 1:length(listy2)){\n",
    "    tmp <- listy2[[i]] %>% filter(x2 != i - 1)\n",
    "   cpcount <- append(cpcount, mean(tmp$ncpt))\n",
    "}\n",
    "cpframe <- data.frame(cpcount = unlist(cpcount), lengthlist = seq(6,40,2))"
   ]
  },
  {
   "cell_type": "code",
   "execution_count": 22,
   "metadata": {},
   "outputs": [
    {
     "data": {},
     "metadata": {},
     "output_type": "display_data"
    },
    {
     "data": {
      "image/png": "[encoded data removed]",
      "text/plain": [
       "plot without title"
      ]
     },
     "metadata": {},
     "output_type": "display_data"
    }
   ],
   "source": [
    "ncptplot <- ggplot(cpframe, aes(x = lengthlist, y= cpcount))+\n",
    "geom_point(size = 1)+\n",
    "geom_line(size = 0.5)+\n",
    "theme_bw(12)+\n",
    "labs(x = \"Trajectory Length\", y = \"Detections per trajectory\")+\n",
    "scale_y_continuous(position = \"right\")\n",
    "ncptplot\n",
    "#ggsave(\"ncptplot.png\", ncptplot, dpi = 600)"
   ]
  },
  {
   "cell_type": "code",
   "execution_count": 23,
   "metadata": {},
   "outputs": [
    {
     "data": {},
     "metadata": {},
     "output_type": "display_data"
    },
    {
     "data": {
      "text/html": [
       "<strong>png:</strong> 2"
      ],
      "text/latex": [
       "\\textbf{png:} 2"
      ],
      "text/markdown": [
       "**png:** 2"
      ],
      "text/plain": [
       "png \n",
       "  2 "
      ]
     },
     "metadata": {},
     "output_type": "display_data"
    }
   ],
   "source": [
    "svglite(file = \"ncptplot.svg\", width = 3.3, height = 3)\n",
    "ncptplot\n",
    "dev.off()"
   ]
  }
 ],
 "metadata": {
  "kernelspec": {
   "display_name": "R",
   "language": "R",
   "name": "ir"
  },
  "language_info": {
   "codemirror_mode": "r",
   "file_extension": ".r",
   "mimetype": "text/x-r-source",
   "name": "R",
   "pygments_lexer": "r",
   "version": "3.3.3"
  }
 },
 "nbformat": 4,
 "nbformat_minor": 1
}
