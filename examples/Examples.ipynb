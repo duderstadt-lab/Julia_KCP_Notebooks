{
 "cells": [
  {
   "cell_type": "markdown",
   "metadata": {},
   "source": [
    "# Kinetic Changepoints Examples"
   ]
  },
  {
   "cell_type": "markdown",
   "metadata": {},
   "source": [
    "## Load the changepoint functions"
   ]
  },
  {
   "cell_type": "code",
   "execution_count": 1,
   "metadata": {},
   "outputs": [
    {
     "data": {
      "text/plain": [
       "getchangepoints (generic function with 3 methods)"
      ]
     },
     "execution_count": 1,
     "metadata": {},
     "output_type": "execute_result"
    }
   ],
   "source": [
    "include(\"../src/KineticChangepoints.jl\")"
   ]
  },
  {
   "cell_type": "markdown",
   "metadata": {},
   "source": [
    "## Non-interactive mode"
   ]
  },
  {
   "cell_type": "markdown",
   "metadata": {},
   "source": [
    "Here we run the changepoint method on an example file containing real DNA replication trajectories, and have it output a file of segments for us. Input arguments are the source file name, the intended name of the ouput file, the global sigma variable, the confidence level, the separator (e.g. ',' for comma or '&#92;t' for tab) and the order of the time, nucleotides(/position) and trajectory columns."
   ]
  },
  {
   "cell_type": "code",
   "execution_count": 2,
   "metadata": {
    "collapsed": true
   },
   "outputs": [],
   "source": [
    "getchangepoints(\"testdata.csv\", \"outputsegments.csv\", 100, 0.99, ',', [6, 8, 5]);"
   ]
  },
  {
   "cell_type": "markdown",
   "metadata": {},
   "source": [
    "## Manual mode"
   ]
  },
  {
   "cell_type": "markdown",
   "metadata": {},
   "source": [
    "This may be useful if you wish to manipulate your input data using Julia somehow. Otherwise, use the non-interactive mode. Load the test data."
   ]
  },
  {
   "cell_type": "code",
   "execution_count": 3,
   "metadata": {
    "collapsed": true
   },
   "outputs": [],
   "source": [
    "testdata = readdlm(\"testdata.csv\", ',');"
   ]
  },
  {
   "cell_type": "code",
   "execution_count": 4,
   "metadata": {},
   "outputs": [
    {
     "data": {
      "text/plain": [
       "(299691, 8)"
      ]
     },
     "execution_count": 4,
     "metadata": {},
     "output_type": "execute_result"
    }
   ],
   "source": [
    "size(testdata)"
   ]
  },
  {
   "cell_type": "markdown",
   "metadata": {},
   "source": [
    "What columns are in our test data? Remember to count from 1 in Julia."
   ]
  },
  {
   "cell_type": "code",
   "execution_count": 5,
   "metadata": {},
   "outputs": [
    {
     "data": {
      "text/plain": [
       "8-element Array{Any,1}:\n",
       " \" \"          \n",
       " \"x\"          \n",
       " \"y\"          \n",
       " \"slice\"      \n",
       " \"trajectory\" \n",
       " \"time\"       \n",
       " \"transverse\" \n",
       " \"nucleotides\""
      ]
     },
     "execution_count": 5,
     "metadata": {},
     "output_type": "execute_result"
    }
   ],
   "source": [
    "testdata[1,:]"
   ]
  },
  {
   "cell_type": "markdown",
   "metadata": {},
   "source": [
    "Convert the array. Tell it the order in which the time, position (nucleotides) and grouping (trajectory) columns are found."
   ]
  },
  {
   "cell_type": "code",
   "execution_count": 6,
   "metadata": {
    "collapsed": true
   },
   "outputs": [],
   "source": [
    "testdata2 = convert_array(testdata, [6, 8, 5]);"
   ]
  },
  {
   "cell_type": "code",
   "execution_count": 7,
   "metadata": {},
   "outputs": [
    {
     "data": {
      "text/plain": [
       "(299690, 3)"
      ]
     },
     "execution_count": 7,
     "metadata": {},
     "output_type": "execute_result"
    }
   ],
   "source": [
    "size(testdata2)"
   ]
  },
  {
   "cell_type": "markdown",
   "metadata": {},
   "source": [
    "Now find the change points using batch_table, which takes as input the array, the sigma value (globally applied to all trajectories in the array) and the confidence level. The column names in the output segments table are self-explanatory, keep in mind that the X_index counts from 1."
   ]
  },
  {
   "cell_type": "code",
   "execution_count": 8,
   "metadata": {},
   "outputs": [
    {
     "data": {
      "text/plain": [
       "4223×11 Array{Any,2}:\n",
       "     \"trajectory\"        \"X_index1\"  …    \"duration\"      \"length\"\n",
       "  227                   1               21.25          -26.6374   \n",
       "  227                  86               40.25          -40.7131   \n",
       "  227                 247                4.25         -315.996    \n",
       "  227                 264               12.75          263.67     \n",
       "  227                 315            …  29.0           157.339    \n",
       "  227                 431               22.75          136.037    \n",
       "  227                 522                9.5           -76.5916   \n",
       "  227                 560               12.5           -33.5915   \n",
       "  227                 610               18.25         -273.595    \n",
       "  227                 683            …   7.75         -294.491    \n",
       "  227                 714               26.75          130.749    \n",
       "  227                 821               24.5           304.73     \n",
       "    ⋮                                ⋱                   ⋮        \n",
       " 8647              298916               11.5          -207.172    \n",
       " 8647              298962                3.75         -467.116    \n",
       " 8647              298977                6.5           -44.2872   \n",
       " 8647              299002               10.5          -386.566    \n",
       " 8647              299044            …  24.5           -68.5763   \n",
       " 8647              299142               10.25          447.968    \n",
       " 8647              299182                3.75         -300.544    \n",
       " 8647              299197                6.25         1109.12     \n",
       " 8647              299222                9.0          1711.05     \n",
       " 8647              299258            …  75.5           269.761    \n",
       " 8647              299553               29.0             2.13718  \n",
       " 8647              299666                6.75          317.807    "
      ]
     },
     "execution_count": 8,
     "metadata": {},
     "output_type": "execute_result"
    }
   ],
   "source": [
    "segtable = batch_table(testdata2, 100, 0.99)"
   ]
  },
  {
   "cell_type": "code",
   "execution_count": 9,
   "metadata": {},
   "outputs": [
    {
     "data": {
      "text/plain": [
       "11-element Array{Any,1}:\n",
       " \"trajectory\"\n",
       " \"X_index1\"  \n",
       " \"x_index2\"  \n",
       " \"x1\"        \n",
       " \"y1\"        \n",
       " \"x2\"        \n",
       " \"y2\"        \n",
       " \"A\"         \n",
       " \"B\"         \n",
       " \"duration\"  \n",
       " \"length\"    "
      ]
     },
     "execution_count": 9,
     "metadata": {},
     "output_type": "execute_result"
    }
   ],
   "source": [
    "segtable[1,:]"
   ]
  },
  {
   "cell_type": "markdown",
   "metadata": {},
   "source": [
    "How fast is it?"
   ]
  },
  {
   "cell_type": "code",
   "execution_count": 10,
   "metadata": {
    "scrolled": true
   },
   "outputs": [
    {
     "name": "stdout",
     "output_type": "stream",
     "text": [
      " 10.368216 seconds (347.42 k allocations: 20.841 MiB, 0.08% gc time)\n"
     ]
    }
   ],
   "source": [
    "@time batch_table(testdata2, 100, 0.99);"
   ]
  },
  {
   "cell_type": "markdown",
   "metadata": {},
   "source": [
    "Pretty fast."
   ]
  },
  {
   "cell_type": "markdown",
   "metadata": {},
   "source": [
    "## Plotting"
   ]
  },
  {
   "cell_type": "markdown",
   "metadata": {},
   "source": [
    "You are probably better off making plots in R/Python/Matlab/whatever."
   ]
  },
  {
   "cell_type": "code",
   "execution_count": 11,
   "metadata": {},
   "outputs": [
    {
     "name": "stderr",
     "output_type": "stream",
     "text": [
      "\u001b[1m\u001b[36mINFO: \u001b[39m\u001b[22m\u001b[36mPackage PyPlot is already installed\n",
      "\u001b[39m\u001b[1m\u001b[36mINFO: \u001b[39m\u001b[22m\u001b[36mMETADATA is out-of-date — you may not have the latest version of PyPlot\n",
      "\u001b[39m\u001b[1m\u001b[36mINFO: \u001b[39m\u001b[22m\u001b[36mUse `Pkg.update()` to get the latest versions of your packages\n",
      "\u001b[39m"
     ]
    }
   ],
   "source": [
    "Pkg.add(\"PyPlot\"); #Only ever need to run tihs once. \n",
    "#Also need to have matplotlib installed in Python. E.g. in python do: conda install matplotlib."
   ]
  },
  {
   "cell_type": "code",
   "execution_count": 12,
   "metadata": {
    "collapsed": true
   },
   "outputs": [],
   "source": [
    "using PyPlot"
   ]
  },
  {
   "cell_type": "code",
   "execution_count": 13,
   "metadata": {
    "collapsed": true
   },
   "outputs": [],
   "source": [
    "startend = startendtable(testdata2);"
   ]
  },
  {
   "cell_type": "code",
   "execution_count": 14,
   "metadata": {
    "collapsed": true
   },
   "outputs": [],
   "source": [
    "trajno = 13; #The ordinal number of the trajectory (not necessarily its actual number)"
   ]
  },
  {
   "cell_type": "code",
   "execution_count": 15,
   "metadata": {
    "collapsed": true,
    "scrolled": true
   },
   "outputs": [],
   "source": [
    "trajsegs = segtable[segtable[:,1] .== startend[trajno,1], :];"
   ]
  },
  {
   "cell_type": "code",
   "execution_count": 16,
   "metadata": {},
   "outputs": [
    {
     "data": {
      "image/png": "[encoded data removed]",
      "text/plain": [
       "PyPlot.Figure(PyObject <matplotlib.figure.Figure object at 0x0000000059AABA58>)"
      ]
     },
     "metadata": {},
     "output_type": "display_data"
    },
    {
     "data": {
      "text/plain": [
       "PyObject <matplotlib.text.Text object at 0x0000000059BA8278>"
      ]
     },
     "execution_count": 16,
     "metadata": {},
     "output_type": "execute_result"
    }
   ],
   "source": [
    "x = testdata2[startend[trajno,2]:startend[trajno,2] + startend[trajno,3] - 1, 1]; \n",
    "y = testdata2[startend[trajno,2]:startend[trajno,2] + startend[trajno,3] - 1, 2];\n",
    "plot(x, y, color=\"blue\", linewidth=2.0, linestyle=\"-\")\n",
    "for i in 1:length(trajsegs[:,1])\n",
    "    plot([trajsegs[i,4], trajsegs[i,6]], [trajsegs[i,5], trajsegs[i,7]], color=\"red\", linewidth=2.0, linestyle=\"-\")\n",
    "end\n",
    "title(startend[trajno,1])"
   ]
  },
  {
   "cell_type": "markdown",
   "metadata": {},
   "source": [
    "Scatter plot showing all the segments for all the trajectories, with time on the x-axis and segment length on the y-axis. You can see where replication starts at about 300 seconds."
   ]
  },
  {
   "cell_type": "code",
   "execution_count": 17,
   "metadata": {},
   "outputs": [
    {
     "data": {
      "image/png": "[encoded data removed]",
      "text/plain": [
       "PyPlot.Figure(PyObject <matplotlib.figure.Figure object at 0x0000000059ED9EF0>)"
      ]
     },
     "metadata": {},
     "output_type": "display_data"
    },
    {
     "data": {
      "text/plain": [
       "1-element Array{PyCall.PyObject,1}:\n",
       " PyObject <matplotlib.lines.Line2D object at 0x000000005A241358>"
      ]
     },
     "execution_count": 17,
     "metadata": {},
     "output_type": "execute_result"
    }
   ],
   "source": [
    "x = segtable[2:end,4]\n",
    "y = segtable[2:end,11];\n",
    "plot(x, y, color = \"blue\", \".\")"
   ]
  }
 ],
 "metadata": {
  "kernelspec": {
   "display_name": "Julia 0.6.0",
   "language": "julia",
   "name": "julia-0.6"
  },
  "language_info": {
   "file_extension": ".jl",
   "mimetype": "application/julia",
   "name": "julia",
   "version": "0.6.0"
  }
 },
 "nbformat": 4,
 "nbformat_minor": 2
}
